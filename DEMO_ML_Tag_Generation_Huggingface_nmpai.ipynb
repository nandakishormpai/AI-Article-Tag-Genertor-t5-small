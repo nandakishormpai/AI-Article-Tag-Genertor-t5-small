{
  "nbformat": 4,
  "nbformat_minor": 0,
  "metadata": {
    "colab": {
      "provenance": []
    },
    "kernelspec": {
      "name": "python3",
      "display_name": "Python 3"
    },
    "language_info": {
      "name": "python"
    },
    "accelerator": "GPU",
    "gpuClass": "standard"
  },
  "cells": [
    {
      "cell_type": "code",
      "source": [
        "!pip install transformers nltk"
      ],
      "metadata": {
        "id": "lwj-z5-Uf-Rl"
      },
      "execution_count": null,
      "outputs": []
    },
    {
      "cell_type": "code",
      "execution_count": null,
      "metadata": {
        "colab": {
          "base_uri": "https://localhost:8080/"
        },
        "id": "eWBeWht6eocB",
        "outputId": "728d94de-91f9-4180-bfcc-db66b87ae5cf"
      },
      "outputs": [
        {
          "output_type": "stream",
          "name": "stderr",
          "text": [
            "[nltk_data] Downloading package punkt to /root/nltk_data...\n",
            "[nltk_data]   Package punkt is already up-to-date!\n"
          ]
        }
      ],
      "source": [
        "from transformers import AutoTokenizer, AutoModelForSeq2SeqLM\n",
        "import nltk\n",
        "nltk.download('punkt')\n",
        "\n",
        "tokenizer = AutoTokenizer.from_pretrained(\"nandakishormpai/t5-small-machine-articles-tag-generation\")\n",
        "model = AutoModelForSeq2SeqLM.from_pretrained(\"nandakishormpai/t5-small-machine-articles-tag-generation\")\n",
        "\n",
        "article_text = \"\"\"\n",
        "Paige, AI in pathology and genomics\n",
        "\n",
        "Fundamentally transforming the diagnosis and treatment of cancer\n",
        "Paige has raised $25M in total. We talked with Leo Grady, its CEO.\n",
        "How would you describe Paige in a single tweet?\n",
        "AI in pathology and genomics will fundamentally transform the diagnosis and treatment of cancer.\n",
        "How did it all start and why? \n",
        "Paige was founded out of Memorial Sloan Kettering to bring technology that was developed there to doctors and patients worldwide. For over a decade, Thomas Fuchs and his colleagues have developed a new, powerful technology for pathology. This technology can improve cancer diagnostics, driving better patient care at lower cost. Paige is building clinical products from this technology and extending the technology to the development of new biomarkers for the biopharma industry.\n",
        "What have you achieved so far?\n",
        "TEAM: In the past year and a half, Paige has built a team with members experienced in AI, entrepreneurship, design and commercialization of clinical software.\n",
        "PRODUCT: We have achieved FDA breakthrough designation for the first product we plan to launch, a testament to the impact our technology will have in this market.\n",
        "CUSTOMERS: None yet, as we are working on CE and FDA regulatory clearances. We are working with several biopharma companies.\n",
        "What do you plan to achieve in the next 2 or 3 years?\n",
        "Commercialization of multiple clinical products for pathologists, as well as the development of novel biomarkers that can help speed up and better inform the diagnosis and treatment selection for patients with cancer.\n",
        "\"\"\"\n",
        "\n",
        "inputs = tokenizer([article_text], max_length=1024, truncation=True, return_tensors=\"pt\")\n",
        "output = model.generate(**inputs, num_beams=8, do_sample=True, min_length=10,\n",
        "                        max_length=128)\n",
        "\n",
        "decoded_output = tokenizer.batch_decode(output, skip_special_tokens=True)[0]\n",
        "\n",
        "tags = [ tag.strip() for tag in decoded_output.split(\",\")] \n",
        "\n"
      ]
    },
    {
      "cell_type": "code",
      "source": [
        "tags"
      ],
      "metadata": {
        "colab": {
          "base_uri": "https://localhost:8080/"
        },
        "id": "9KKNGIspMUQk",
        "outputId": "9f8bb5f6-6ba0-49fb-deed-2e84c950f07c"
      },
      "execution_count": null,
      "outputs": [
        {
          "output_type": "execute_result",
          "data": {
            "text/plain": [
              "['Paige', 'AI in pathology and genomics', 'AI in pathology', 'genomics']"
            ]
          },
          "metadata": {},
          "execution_count": 7
        }
      ]
    }
  ]
}